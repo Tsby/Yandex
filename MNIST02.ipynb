{
 "cells": [
  {
   "cell_type": "markdown",
   "metadata": {},
   "source": [
    "# Алгоритмы классификации"
   ]
  },
  {
   "cell_type": "markdown",
   "metadata": {},
   "source": [
    "## MNIST Digits\n",
    "\n",
    "Воспользуйтесь данными с https://www.kaggle.com/c/digit-recognizer/data \n",
    "Далее предполагается, что файлы test.csv и train.csv расположены в одной директории с notebook-ом.\n",
    "\n",
    "В задании для оценивания качества работы алгоритмов требуется (самостоятельно) реализовать 10-тикратную перекрестную проверку (https://en.wikipedia.org/wiki/Cross-validation_(statistics)). В качестве ошибки используется средняя доля ошибок. Один раз (для kNN) в методических целях требуется дополнительно найти среднюю ошибку на обучающей части выборок перекрестной проверки. \n",
    "\n",
    "Разбиение на подвыборки должно быть одинаково для всех алгоритмов."
   ]
  },
  {
   "cell_type": "code",
   "execution_count": 2,
   "metadata": {
    "collapsed": true
   },
   "outputs": [],
   "source": [
    "import numpy as np\n",
    "import csv\n",
    "import pylab as plt\n",
    "%matplotlib inline\n"
   ]
  },
  {
   "cell_type": "code",
   "execution_count": 3,
   "metadata": {
    "collapsed": false
   },
   "outputs": [],
   "source": [
    "# Загрузите обучающую выборку (признаки и метки классов)\n",
    "\n",
    "ifile = open(\"train.csv\", \"r\")\n",
    "\n",
    "train_data = []\n",
    "train_values = []\n",
    "\n",
    "read = csv.reader(ifile)\n",
    "next(read)\n",
    "\n",
    "for row in read:\n",
    "    num = []\n",
    "    for i in row[1:]:\n",
    "        num.append(int(i))\n",
    "    train_data.append(num)\n",
    "    for i in row[0]:\n",
    "        train_values.append(int(i))\n",
    "ifile.close()\n",
    "        "
   ]
  },
  {
   "cell_type": "markdown",
   "metadata": {},
   "source": [
    "Для оптимального времени работы возьмем первые 1000 объектов из всей выборки. В *values* занесем метки, а в *data* \n",
    "занесем соответствующие признаки.\n"
   ]
  },
  {
   "cell_type": "code",
   "execution_count": 4,
   "metadata": {
    "collapsed": false
   },
   "outputs": [],
   "source": [
    "data = train_data[:1000]\n",
    "values = train_values[:1000]\n"
   ]
  },
  {
   "cell_type": "code",
   "execution_count": null,
   "metadata": {
    "collapsed": true
   },
   "outputs": [],
   "source": [
    "# примените метод kNN\n",
    "# http://scikit-learn.org/stable/modules/generated/sklearn.neighbors.KNeighborsClassifier.html\n",
    "# нарисовать графики зависимости ошибки перекрестной проверки на обучающей части и на тестовой части от k. \n",
    "# Сделать вывод об оптимальном k.\n",
    "# (*) какие еще параметры влияют на результат классификации и как?\n"
   ]
  },
  {
   "cell_type": "markdown",
   "metadata": {},
   "source": [
    "Применим метод K ближайших соседей и найдем оптимальное количество соседей, для которого ошибка является минимальной. Перебор произведем в пределах от 1 до 10 и построим график зависимости ошибки на обучающей и тестовой части от количества соседей. Воспользуемся **KNeighborsClassifier** из библиотеки **sklearn.neighbors** и проверим перекрестной проверкой на 10 частях.(9 обучаемых и 1 тестовая.) Используем **сross_validate** из **sklearn.model_selection** для получения значения ошибки как на тестовой,так и на обучающей части. "
   ]
  },
  {
   "cell_type": "code",
   "execution_count": 7,
   "metadata": {
    "collapsed": false
   },
   "outputs": [],
   "source": [
    "from sklearn.neighbors import KNeighborsClassifier\n",
    "from sklearn.model_selection import cross_validate as cv\n",
    "\n",
    "train_error = []\n",
    "test_error = []\n",
    "\n",
    "train_error.append(0)\n",
    "test_error.append(0)\n",
    "\n",
    "for k in range(1, 11):\n",
    "    knn = KNeighborsClassifier(n_neighbors=k)\n",
    "    scores = cv(knn, data, values, cv=10, return_train_score=True)\n",
    "    train_error.append(1 - np.array(scores['train_score']).mean())\n",
    "    test_error.append(1 - np.array(scores['test_score']).mean())\n",
    "    "
   ]
  },
  {
   "cell_type": "code",
   "execution_count": 8,
   "metadata": {
    "collapsed": false
   },
   "outputs": [
    {
     "data": {
      "image/png": "[encoded data removed]",
      "text/plain": [
       "<matplotlib.figure.Figure at 0x104341588>"
      ]
     },
     "metadata": {},
     "output_type": "display_data"
    },
    {
     "name": "stdout",
     "output_type": "stream",
     "text": [
      "Минимальная ошибка на тестовой части = 0.144162016395 при k = 3\n",
      "Минимальная ошибка на обучающей части = 0.0734474876125 при k = 3\n"
     ]
    }
   ],
   "source": [
    "plt.xlim([1, 10])\n",
    "plt.title('Graph #1 Knn Method')\n",
    "plt.plot(test_error, label='Test')\n",
    "plt.plot(train_error, label='Train')\n",
    "plt.ylabel('Error')\n",
    "plt.xlabel('Amount of Neighbors')\n",
    "plt.legend(loc=4, frameon=True)\n",
    "plt.grid()\n",
    "plt.show()\n",
    "\n",
    "print(\"Минимальная ошибка на тестовой части =\", min(test_error[2:]),\"при k =\", np.argmin(test_error[2:]) + 2)\n",
    "print(\"Минимальная ошибка на обучающей части =\", min(train_error[2:]),\"при k =\", np.argmin(train_error[2:]) + 2)\n",
    "\n"
   ]
  },
  {
   "cell_type": "code",
   "execution_count": 12,
   "metadata": {
    "collapsed": false
   },
   "outputs": [],
   "source": [
    "# примените метод SVM\n",
    "# http://scikit-learn.org/stable/modules/generated/sklearn.svm.LinearSVC.html\n",
    "# нарисовать график зависимости ошибки перекрестной проверки на тестовой части от регуляризации C (log масштаб перебора по C). \n",
    "# Сделать вывод об оптимальном C.\n",
    "# Что означают и как влияют параметры multi_class, fit_intercept, intercept_scaling, class_weight, random_state?\n",
    "# Нарисуйте график зависимости числа опорных векторов как функцию от C"
   ]
  },
  {
   "cell_type": "markdown",
   "metadata": {},
   "source": [
    "Для применения метода опорных векторов(SVM) воспользуемся **LinearSVC** из библиотеки **sklearn.svm**. Подберем оптимальное значение параметра **С**, перебирая степени 10-ки(от -10 до 10). Построим график и выберем оптимальное значение, на котором ошибка будет минимальной."
   ]
  },
  {
   "cell_type": "code",
   "execution_count": 9,
   "metadata": {
    "collapsed": false
   },
   "outputs": [],
   "source": [
    "from sklearn.svm import LinearSVC\n",
    "from sklearn.model_selection import cross_val_score as cvs\n",
    "\n",
    "means_1 = []\n",
    "\n",
    "for c in range(-10,10):\n",
    "    clf = LinearSVC(C=10**c)\n",
    "    scores = cvs(clf, data, values, cv=10)\n",
    "    means_1.append(1 - scores.mean())\n",
    "    "
   ]
  },
  {
   "cell_type": "code",
   "execution_count": 10,
   "metadata": {
    "collapsed": false
   },
   "outputs": [
    {
     "data": {
      "image/png": "[encoded data removed]",
      "text/plain": [
       "<matplotlib.figure.Figure at 0x120c97400>"
      ]
     },
     "metadata": {},
     "output_type": "display_data"
    },
    {
     "name": "stdout",
     "output_type": "stream",
     "text": [
      "Минимальная ошибка = 0.143591525574 при значении С = 1e-07\n"
     ]
    }
   ],
   "source": [
    "x_val = [pow(10, i) for i in range(-10, 10)]\n",
    "fig = plt.figure()\n",
    "x = fig.add_subplot(1, 1, 1)\n",
    "line = x.plot(x_val, means_1, color='blue')\n",
    "x.set_xscale('log')\n",
    "plt.title('Graph #2 SVM Method')\n",
    "plt.ylabel('Mistake')\n",
    "plt.xlabel('C value')\n",
    "plt.grid()\n",
    "plt.show()\n",
    "\n",
    "print(\"Минимальная ошибка =\", min(means_1), \"при значении С =\", x_val[means_1.index(min(means_1))])\n"
   ]
  },
  {
   "cell_type": "markdown",
   "metadata": {},
   "source": [
    "Нарисуем зависимость числа опорных векторов, как функцию от **C**. Для этого воспользуемся функцией **n_support_**, которая возвращает необходимое количество опорных веторов для отделения i-ого класса от остальных. Сложим эти значения и получим общее количество опорных векторов."
   ]
  },
  {
   "cell_type": "code",
   "execution_count": 11,
   "metadata": {
    "collapsed": false
   },
   "outputs": [
    {
     "data": {
      "image/png": "[encoded data removed]",
      "text/plain": [
       "<matplotlib.figure.Figure at 0x12120cf28>"
      ]
     },
     "metadata": {},
     "output_type": "display_data"
    }
   ],
   "source": [
    "from sklearn.svm import SVC\n",
    "\n",
    "res = []\n",
    "\n",
    "for c in range(-10,10):\n",
    "    lin_svm = SVC(kernel='linear', C=10**c).fit(data, values)\n",
    "    res.append(sum(lin_svm.n_support_))\n",
    "\n",
    "fig = plt.figure()\n",
    "x_1 = fig.add_subplot(1, 1, 1)\n",
    "line = x_1.plot(x_val, res, color='blue')\n",
    "x_1.set_xscale('log')\n",
    "plt.title('Graph #3')\n",
    "plt.ylabel('Amount of Support vectors')\n",
    "plt.xlabel('C value')\n",
    "plt.grid()\n",
    "plt.show()\n"
   ]
  },
  {
   "cell_type": "markdown",
   "metadata": {},
   "source": [
    "С помощью параметра ***multi_class*** можно указать стратегию выполнения. По умолчанию стоит стратегия \"Один против остальных\"(\"ovr\"),которая один класс объектов различает от остальных путем создания N классификаторов.Каждый классификатор отличает i-ый класс от остальных и вычисляет соответствующую функцию, будет выбран класс, классификатор которого выдал максимальное значение данной функции. Также можно выбрать стратегию \"Один против одного\"(\"crammer_singer\"), в которой каждый классификатор присваивает объект одному из классов, класс выбирается путем \"голосования\", т.е. к какому классу больше всего кластеров отнесли объект, такой класс и будет выбран.\n",
    "\n",
    "Параметр ***fit_intercept*** отвечает за использование перехвата в вычислениях. Принимает True, если данные не отцентрованы, и False иначе.\n",
    "\n",
    "Параметр ***intercept_scaling*** отвечает за изменение перехвата. Используется, когда параметр fit_intercept установлен True. На вход принимает вещественное число.\n",
    "\n",
    "Параметр ***class_weight*** устанавливает i-ому в словаре классу свой вес. По умолчанию - 1, т.е. веса всех классов одинаковы.\n",
    "\n",
    "Параметр ***random_state*** - принимает значение для генерации случайных чисел. Используется при разделении выборки. По умолчанию - None."
   ]
  },
  {
   "cell_type": "code",
   "execution_count": null,
   "metadata": {
    "collapsed": false
   },
   "outputs": [],
   "source": [
    "# примените метод DT\n",
    "# http://scikit-learn.org/stable/modules/generated/sklearn.tree.DecisionTreeClassifier.html\n",
    "# Как влияют и что означают параметры max_depth, min_samples_split, min_samples_leaf, criteria на качество классификатора?\n",
    "# Выбрать наилучшие значения параметров по вашим экспериментам"
   ]
  },
  {
   "cell_type": "markdown",
   "metadata": {},
   "source": [
    "Применим метод **DT**, применив **DecisionTreeClassifier** из библиотеки **sklearn.tree** . Сначала посчитаем ошибку перекрестной проверкой без перебора параметров."
   ]
  },
  {
   "cell_type": "code",
   "execution_count": 12,
   "metadata": {
    "collapsed": false
   },
   "outputs": [
    {
     "name": "stdout",
     "output_type": "stream",
     "text": [
      "Ошибка равна 0.371410991813\n"
     ]
    }
   ],
   "source": [
    "from sklearn.tree import DecisionTreeClassifier as DTC\n",
    "from sklearn.model_selection import cross_val_score as cvs\n",
    "\n",
    "dtc = DTC()\n",
    "scores_1 = cvs(dtc, data, values, cv=10)\n",
    "print(\"Ошибка равна\",1 - scores_1.mean())\n"
   ]
  },
  {
   "cell_type": "markdown",
   "metadata": {},
   "source": [
    "Параметр ***max_depth*** отвечает за глубину дерева. Возможные параметры: None(по умолчанию) - расширение дерева происходит до тех пор, пока все листья не будут построены, целое число - максимальная глубина дерева.\n",
    "\n",
    "Параметр ***min_samples_split*** отвечает за минимальное количество выборок при делении узла. По умолчанию - 2. Также можно указать долю от общего количества выборок, указав вещественное число от 0 до 1. Тогда в качестве значения параметра будет вычесленно по формуле: (выбарнное число) * (общее количество)\n",
    "\n",
    "Параметр ***min_samples_leaf*** отвечает за минимальное количество выборок на листьях при делении узла. По умолчанию - 1. Аналогично предыдущему методу можно взять часть от общего числа выборок, указав число от 0 до 1.\n",
    "\n",
    "Параметр ***criterion*** отечает за меру расщипления. По умолчанию стоит \"gini\" - квадратичная функция расщипления, также возможен вариант \"entropy\" - логорифмическая функция расщипления."
   ]
  },
  {
   "cell_type": "markdown",
   "metadata": {},
   "source": [
    "Теперь переберем каждый параметр и найдем ту конфигурацию, на которой ошибка будет минимальной. Выведем эту конфигурацию и найденную ошибку."
   ]
  },
  {
   "cell_type": "code",
   "execution_count": 13,
   "metadata": {
    "collapsed": false
   },
   "outputs": [
    {
     "name": "stdout",
     "output_type": "stream",
     "text": [
      "Лучшие значения параметров: {'criterion': 'entropy', 'min_samples_split': 2, 'max_depth': 21, 'min_samples_leaf': 1}\n"
     ]
    }
   ],
   "source": [
    "from sklearn.model_selection import GridSearchCV\n",
    "\n",
    "dtc = DTC()\n",
    "param = {'max_depth':[i for i in range(1, 37, 10)], 'min_samples_split':[i for i in range(2, 38, 10)], \n",
    "        'min_samples_leaf':[i for i in range(1, 37, 10)], \"criterion\": [\"gini\", \"entropy\"]}\n",
    "grid = GridSearchCV(estimator=dtc, param_grid=param, cv=10).fit(data, values)\n",
    "\n",
    "print(\"Лучшие значения параметров:\", grid.best_params_)\n"
   ]
  },
  {
   "cell_type": "code",
   "execution_count": 14,
   "metadata": {
    "collapsed": false
   },
   "outputs": [
    {
     "name": "stdout",
     "output_type": "stream",
     "text": [
      "Лучшая ошибка = 0.337\n"
     ]
    }
   ],
   "source": [
    "print(\"Лучшая ошибка =\", 1 - grid.best_score_)\n"
   ]
  },
  {
   "cell_type": "code",
   "execution_count": null,
   "metadata": {
    "collapsed": false
   },
   "outputs": [],
   "source": [
    "# примените метод NN\n",
    "# http://scikit-learn.org/stable/modules/generated/sklearn.neural_network.MLPClassifier.html\n",
    "# Как влияет параметр hidden_layer_sizes на качество классификации?\n",
    "# Выбрать наилучшее значение параметра по вашим экспериментам\n"
   ]
  },
  {
   "cell_type": "markdown",
   "metadata": {},
   "source": [
    "Применим метод NN, воспользовавшись **MLPClassifier** из библиотеки **sklearn.neural_network**. Сначала выведем ошибку на перекрестной проверке без перебора параметра ***hidden_layer_sizes***."
   ]
  },
  {
   "cell_type": "code",
   "execution_count": 15,
   "metadata": {
    "collapsed": false
   },
   "outputs": [
    {
     "name": "stdout",
     "output_type": "stream",
     "text": [
      "Ошибка равна 0.211381318758\n"
     ]
    }
   ],
   "source": [
    "from sklearn.neural_network import MLPClassifier as MLP\n",
    "from sklearn.model_selection import cross_val_score as csv\n",
    "\n",
    "mlp = MLP()\n",
    "scores_3 = csv(mlp, data, values, cv=10) \n",
    "print(\"Ошибка равна\", 1 - scores_3.mean())\n"
   ]
  },
  {
   "cell_type": "markdown",
   "metadata": {},
   "source": [
    "Параметр ***hidden_layer_sizes*** отвечает за количество нейронов на i-ом скрытом уровне. По умолчанию 1 уровень, на котором 100 нейронов.\n",
    "\n",
    "Подберем оптимальное количество нейронов на первом уровне, т.е. такое, на котором ошибка будет минимальной.\n"
   ]
  },
  {
   "cell_type": "code",
   "execution_count": 16,
   "metadata": {
    "collapsed": false
   },
   "outputs": [
    {
     "name": "stderr",
     "output_type": "stream",
     "text": [
      "//anaconda/lib/python3.5/site-packages/sklearn/neural_network/multilayer_perceptron.py:564: ConvergenceWarning: Stochastic Optimizer: Maximum iterations (200) reached and the optimization hasn't converged yet.\n",
      "  % self.max_iter, ConvergenceWarning)\n"
     ]
    }
   ],
   "source": [
    "means_3 = [] \n",
    "x_values = []\n",
    "\n",
    "for i in range(50, 501, 50):\n",
    "    mlp = MLP(hidden_layer_sizes=(i,))\n",
    "    scores_3 = csv(mlp, data, values, cv=10) \n",
    "    means_3.append(1 - scores_3.mean())\n",
    "    x_values.append(i)\n",
    "    "
   ]
  },
  {
   "cell_type": "code",
   "execution_count": 17,
   "metadata": {
    "collapsed": false
   },
   "outputs": [
    {
     "data": {
      "image/png": "[encoded data removed]",
      "text/plain": [
       "<matplotlib.figure.Figure at 0x120fba518>"
      ]
     },
     "metadata": {},
     "output_type": "display_data"
    },
    {
     "name": "stdout",
     "output_type": "stream",
     "text": [
      "Минимальная ошибка = 0.150773209437 при 450 нейронах на первом уровне.\n"
     ]
    }
   ],
   "source": [
    "plt.xlim([50, 500])\n",
    "plt.title('Graph #4 NN Method')\n",
    "plt.plot(x_values, means_3)\n",
    "plt.ylabel('Error')\n",
    "plt.xlabel('The number of neurons in the 1-st hidden layer')\n",
    "plt.grid()\n",
    "plt.show()\n",
    "print(\"Минимальная ошибка =\", min(means_3), \"при\", 50 + 50*means_3.index(min(means_3)), \"нейронах на первом уровне.\")\n"
   ]
  },
  {
   "cell_type": "markdown",
   "metadata": {},
   "source": [
    "Как можно видеть на графике, с увеличением числа нейронов ошибка при классификации уменьшается.\n"
   ]
  },
  {
   "cell_type": "code",
   "execution_count": null,
   "metadata": {
    "collapsed": false
   },
   "outputs": [],
   "source": [
    "# Сделайте вывод о наилучшем методе и его оптимальных параметрах\n"
   ]
  },
  {
   "cell_type": "markdown",
   "metadata": {},
   "source": [
    "При подсчете ошибки на перекрестной проверке наилучшие результаты показали методы NN и SVM при подборе соответствующих оптимальных параметров."
   ]
  }
 ],
 "metadata": {
  "anaconda-cloud": {},
  "kernelspec": {
   "display_name": "Python [default]",
   "language": "python",
   "name": "python3"
  },
  "language_info": {
   "codemirror_mode": {
    "name": "ipython",
    "version": 3
   },
   "file_extension": ".py",
   "mimetype": "text/x-python",
   "name": "python",
   "nbconvert_exporter": "python",
   "pygments_lexer": "ipython3",
   "version": "3.5.2"
  }
 },
 "nbformat": 4,
 "nbformat_minor": 2
}
