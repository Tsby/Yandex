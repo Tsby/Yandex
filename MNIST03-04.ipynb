{
 "cells": [
  {
   "cell_type": "markdown",
   "metadata": {},
   "source": [
    "# Алгоритмы классификации (продолжение)"
   ]
  },
  {
   "cell_type": "code",
   "execution_count": 1,
   "metadata": {
    "collapsed": true
   },
   "outputs": [],
   "source": [
    "import numpy as np\n",
    "import csv\n",
    "import pylab as plt\n",
    "%matplotlib inline\n"
   ]
  },
  {
   "cell_type": "code",
   "execution_count": 2,
   "metadata": {
    "collapsed": false
   },
   "outputs": [],
   "source": [
    "# Загрузите обучающую выборку (признаки и метки классов)\n",
    "\n",
    "ifile = open(\"train.csv\", \"r\")\n",
    "\n",
    "train_data = []\n",
    "train_values = []\n",
    "\n",
    "read = csv.reader(ifile)\n",
    "next(read)\n",
    "\n",
    "for row in read:\n",
    "    num = []\n",
    "    for i in row[1:]:\n",
    "        num.append(int(i))\n",
    "    train_data.append(num)\n",
    "    for i in row[0]:\n",
    "        train_values.append(int(i))\n",
    "ifile.close()\n",
    "        "
   ]
  },
  {
   "cell_type": "code",
   "execution_count": 3,
   "metadata": {
    "collapsed": true
   },
   "outputs": [],
   "source": [
    "data = train_data[:1000]\n",
    "values = train_values[:1000]\n"
   ]
  },
  {
   "cell_type": "code",
   "execution_count": 268,
   "metadata": {
    "collapsed": true
   },
   "outputs": [],
   "source": [
    "# применить решающий лес\n",
    "# http://scikit-learn.org/stable/modules/generated/sklearn.ensemble.RandomForestClassifier.html\n",
    "# нарисовать график зависимости ошибки перекрестной проверки на тестовой части от числа деревьев (n_estimators). \n",
    "# Что означают и как влияют параметры criterion, max_depth, min_samples_split, min_samples_leaf ?\n"
   ]
  },
  {
   "cell_type": "markdown",
   "metadata": {},
   "source": [
    " Применим метод, используя **RandomForestClassifier** из библиотеки **sklearn.ensemble**. Переберем значения парметра ***n_estimators***, отвечающий за количество деревьев, и найдем оптимальное значение этого парметра в переделах от 1 до 200, на котором ошибка перекрестной проверки на тестовой части будет минимальной."
   ]
  },
  {
   "cell_type": "code",
   "execution_count": 4,
   "metadata": {
    "collapsed": false
   },
   "outputs": [],
   "source": [
    "from sklearn.ensemble import RandomForestClassifier\n",
    "from sklearn.model_selection import cross_val_score as cvs\n",
    "\n",
    "means_1 = []\n",
    "means_1.append(0)\n",
    "\n",
    "for i in range(0, 201, 5):\n",
    "    rfc = RandomForestClassifier(n_estimators=i+1)\n",
    "    scores = cvs(rfc, data, values, cv=10)\n",
    "    means_1.append(1 - scores.mean())\n"
   ]
  },
  {
   "cell_type": "code",
   "execution_count": 5,
   "metadata": {
    "collapsed": false
   },
   "outputs": [
    {
     "data": {
      "image/png": "[encoded data removed]",
      "text/plain": [
       "<matplotlib.figure.Figure at 0x12049a5f8>"
      ]
     },
     "metadata": {},
     "output_type": "display_data"
    },
    {
     "name": "stdout",
     "output_type": "stream",
     "text": [
      "Минмальная ошибка равна 0.108421231084 при 120 деревьев.\n"
     ]
    }
   ],
   "source": [
    "x = []\n",
    "x.append(0)\n",
    "for i in range(0, 201, 5):\n",
    "    x.append(i)\n",
    "plt.xlim([1, 200])\n",
    "plt.ylim([0, 0.5])\n",
    "plt.title('Graph #1 Random Forest')\n",
    "plt.plot(x, means_1)\n",
    "plt.ylabel('Mistake')\n",
    "plt.xlabel('Amount of Trees')\n",
    "plt.grid()\n",
    "plt.show()\n",
    "\n",
    "print(\"Минмальная ошибка равна\", min(means_1[1:]), \"при\", 5*(means_1.index(min(means_1[1:])) + 1), \"деревьев.\")\n"
   ]
  },
  {
   "cell_type": "markdown",
   "metadata": {},
   "source": [
    "Параметр ***max_depth*** отвечает за глубину дерева. Возможные параметры: None(по умолчанию) - расширение дерева происходит до тех пор, пока все листья не будут построены, целое число - максимальная глубина дерева.\n",
    "\n",
    "Параметр ***min_samples_split*** отвечает за минимальное количество выборок при делении узла. По умолчанию - 2. Также можно указать долю от общего количества выборок, указав вещественное число от 0 до 1. Тогда в качестве значения параметра будет вычесленно по формуле: (выбарнное число) * (общее количество)\n",
    "\n",
    "Параметр ***min_samples_leaf*** отвечает за минимальное количество выборок на листьях при делении узла. По умолчанию - 1. Аналогично предыдущему методу можно взять часть от общего числа выборок, указав число от 0 до 1.\n",
    "\n",
    "Параметр ***criterion*** отечает за меру расщипления. По умолчанию стоит \"gini\" - квадратичная функция расщипления, также возможен вариант \"entropy\" - логорифмическая функция расщипления.\n",
    "\n",
    "Параметр ***n_estimators*** отвечает за количество деревьев.(количество этапов при использовании метода оценки)"
   ]
  },
  {
   "cell_type": "code",
   "execution_count": 2,
   "metadata": {
    "collapsed": true
   },
   "outputs": [],
   "source": [
    "# применить бустинг\n",
    "# http://scikit-learn.org/stable/modules/generated/sklearn.ensemble.GradientBoostingClassifier.html\n",
    "# какие параметры и как влияют на качество классификации?\n"
   ]
  },
  {
   "cell_type": "markdown",
   "metadata": {},
   "source": [
    "Применим бустинг, используя **GradientBoostingClassifier** из библиотеки **sklearn.ensemble**. Посчитаем ошибку на перекрестной проверке."
   ]
  },
  {
   "cell_type": "code",
   "execution_count": 8,
   "metadata": {
    "collapsed": false
   },
   "outputs": [],
   "source": [
    "from sklearn.ensemble import GradientBoostingClassifier\n",
    "from sklearn.model_selection import cross_val_score as cvs\n",
    "\n",
    "gbc = GradientBoostingClassifier()\n",
    "scores_1 = cvs(gbc, data, values, cv=10)\n"
   ]
  },
  {
   "cell_type": "code",
   "execution_count": 9,
   "metadata": {
    "collapsed": false
   },
   "outputs": [
    {
     "name": "stdout",
     "output_type": "stream",
     "text": [
      "Ошибка равна 0.149872068863\n"
     ]
    }
   ],
   "source": [
    "print(\"Ошибка равна\", 1 - scores_1.mean())\n"
   ]
  },
  {
   "cell_type": "markdown",
   "metadata": {},
   "source": [
    "Параметр ***max_depth*** отвечает за глубину дерева(максимальное количество уровней деления). По умолчанию - 3.\n",
    "\n",
    "Параметр ***min_samples_split*** отвечает за минимальное количество выборок при делении узла. По умолчанию - 2. Также можно указать долю от общего количества выборок, указав вещественное число от 0 до 1. Тогда в качестве значения параметра будет вычесленно по формуле: (выбарнное число) * (общее количество)\n",
    "\n",
    "Параметр ***min_samples_leaf*** отвечает за минимальное количество выборок на листьях при делении узла. По умолчанию - 1. Аналогично предыдущему методу можно взять часть от общего числа выборок, указав число от 0 до 1.\n",
    "\n",
    "Параметр ***criterion*** отечает за меру расщипления. По умолчанию стоит \"friedman_mse\" - вычисление среднеквадратичной ошибки по Фридману, также возможен вариант “mse” - вычисление простой среднеквадратичной ошибки,  “mae” - для вычисления абсолютной ошибки.\n",
    "\n",
    "Параметр ***n_estimators*** отвечает за количество этапов бустинга. По умолчанию - 100. Обычно с ростом количества этапов увеличивается качество работы."
   ]
  },
  {
   "cell_type": "code",
   "execution_count": 11,
   "metadata": {
    "collapsed": true
   },
   "outputs": [],
   "source": [
    "# Сделайте выводы о лучшем методе, среди рассмотренных на занятии 2 и 3.\n"
   ]
  },
  {
   "cell_type": "markdown",
   "metadata": {},
   "source": [
    "Судя по средней ошибке, полученной на перекрестной проверке, лучшим метод является Решающий Лес."
   ]
  },
  {
   "cell_type": "markdown",
   "metadata": {},
   "source": [
    "# Работа с бинарными изображениями\n",
    "## с помощью библиотеки http://scikit-image.org"
   ]
  },
  {
   "cell_type": "code",
   "execution_count": 4,
   "metadata": {
    "collapsed": true
   },
   "outputs": [],
   "source": [
    "# бинаризовать изображения, привести примеры картинок\n",
    "# http://scikit-image.org/docs/dev/auto_examples/xx_applications/plot_thresholding.html\n"
   ]
  },
  {
   "cell_type": "markdown",
   "metadata": {},
   "source": [
    "Бинаризуем изображения цифр(от 1 до 5), с помощью метода **threshold_mean** из библиотеки **skimage.filters**. Заведем функицю ***make_binary()***, которая будет принимает на вход изображение(матрицу) в градации серого и  возвращать бинаризованное(черно-белое) изображение."
   ]
  },
  {
   "cell_type": "code",
   "execution_count": 10,
   "metadata": {
    "collapsed": true
   },
   "outputs": [],
   "source": [
    "from skimage.filters import threshold_mean\n",
    "\n",
    "def make_binary(image):\n",
    "    thr = threshold_mean(image)\n",
    "    binary = image > thr\n",
    "    return binary\n"
   ]
  },
  {
   "cell_type": "code",
   "execution_count": 11,
   "metadata": {
    "collapsed": false
   },
   "outputs": [
    {
     "name": "stdout",
     "output_type": "stream",
     "text": [
      "Слева выведем обычное изображение, справа - бинаризованное.\n"
     ]
    },
    {
     "data": {
      "image/png": "[encoded data removed]",
      "text/plain": [
       "<matplotlib.figure.Figure at 0x12b2abef0>"
      ]
     },
     "metadata": {},
     "output_type": "display_data"
    },
    {
     "data": {
      "image/png": "[encoded data removed]",
      "text/plain": [
       "<matplotlib.figure.Figure at 0x12b75d5f8>"
      ]
     },
     "metadata": {},
     "output_type": "display_data"
    },
    {
     "data": {
      "image/png": "[encoded data removed]",
      "text/plain": [
       "<matplotlib.figure.Figure at 0x12154e940>"
      ]
     },
     "metadata": {},
     "output_type": "display_data"
    },
    {
     "data": {
      "image/png": "[encoded data removed]",
      "text/plain": [
       "<matplotlib.figure.Figure at 0x1215496a0>"
      ]
     },
     "metadata": {},
     "output_type": "display_data"
    },
    {
     "data": {
      "image/png": "[encoded data removed]",
      "text/plain": [
       "<matplotlib.figure.Figure at 0x12b78e128>"
      ]
     },
     "metadata": {},
     "output_type": "display_data"
    }
   ],
   "source": [
    "res = []\n",
    "indexes = []\n",
    "j = 1\n",
    "\n",
    "for i in range(1,6):\n",
    "    index = values.index(i)\n",
    "    res.append(data[index])\n",
    "    res.append(make_binary(data[index]))\n",
    "    \n",
    "print(\"Слева выведем обычное изображение, справа - бинаризованное.\")\n",
    "    \n",
    "for i in range(0, 10, 2):\n",
    "    plt.figure(figsize=(20, 10))\n",
    "    for j in range(2):\n",
    "        plt.subplot(2, 5, j + 1)\n",
    "        plt.imshow(np.reshape(res[i + j], (28, 28)), cmap=\"gray\")\n",
    "    plt.show()\n",
    "    "
   ]
  },
  {
   "cell_type": "code",
   "execution_count": 5,
   "metadata": {
    "collapsed": true
   },
   "outputs": [],
   "source": [
    "# выбрать несколько типичных изображений цифр и несколько не типичных (разомнутую 6, не связные из-за шума и т.п.)\n",
    "# применить к ним замыкание и размыкание в разных вариантах и порядке\n",
    "# выбрать наилучший вариант визуально, применить его ко всей выборке\n",
    "# http://scikit-image.org/docs/dev/api/skimage.morphology.html\n"
   ]
  },
  {
   "cell_type": "markdown",
   "metadata": {},
   "source": [
    "Рассмотрим изображения с дефектами и пременим замыкание и размыкание, воспользовавшись **binary_closing** и **binary_opening** из библиотеки **skimage.morphology**.\n",
    "Затем совместим эти методы и пременим в разной последовательности, выведем результат и выберем наиучший визуально."
   ]
  },
  {
   "cell_type": "code",
   "execution_count": 12,
   "metadata": {
    "collapsed": false
   },
   "outputs": [],
   "source": [
    "from skimage.morphology import binary_closing\n",
    "from skimage.morphology import binary_opening\n",
    "\n",
    "un_id = [498, 220, 276, 242]\n",
    "results = []\n",
    "\n",
    "for ind in un_id:\n",
    "    results.append(data[ind])\n",
    "    binary_im = make_binary(data[ind])\n",
    "    im_closing = binary_closing(binary_im)\n",
    "    im_opening = binary_opening(binary_im)\n",
    "    results.append(binary_im)\n",
    "    results.append(im_closing)\n",
    "    results.append(im_opening)\n",
    "    results.append(binary_opening(im_closing))\n",
    "    results.append(binary_closing(im_opening))\n",
    "    "
   ]
  },
  {
   "cell_type": "code",
   "execution_count": 13,
   "metadata": {
    "collapsed": false
   },
   "outputs": [
    {
     "name": "stdout",
     "output_type": "stream",
     "text": [
      "Первый столбик - обычное изображение цифры, второй - бинаризованное изображение.\n",
      "Третий столбик - изображение, полученное при замыкании, четвертый - изображение, полученное при размыкании.\n",
      "Пятый - изображение, полученное при замыкании-размыкании, шестой - изображение, полученное при размыкании-замыкании.\n"
     ]
    },
    {
     "data": {
      "image/png": "[encoded data removed]",
      "text/plain": [
       "<matplotlib.figure.Figure at 0x12b2abb70>"
      ]
     },
     "metadata": {},
     "output_type": "display_data"
    },
    {
     "data": {
      "image/png": "[encoded data removed]",
      "text/plain": [
       "<matplotlib.figure.Figure at 0x12b5c26d8>"
      ]
     },
     "metadata": {},
     "output_type": "display_data"
    },
    {
     "data": {
      "image/png": "[encoded data removed]",
      "text/plain": [
       "<matplotlib.figure.Figure at 0x120e71b70>"
      ]
     },
     "metadata": {},
     "output_type": "display_data"
    },
    {
     "data": {
      "image/png": "[encoded data removed]",
      "text/plain": [
       "<matplotlib.figure.Figure at 0x12b5cfa20>"
      ]
     },
     "metadata": {},
     "output_type": "display_data"
    }
   ],
   "source": [
    "print(\"Первый столбик - обычное изображение цифры, второй - бинаризованное изображение.\")\n",
    "print(\"Третий столбик - изображение, полученное при замыкании, четвертый - изображение, полученное при размыкании.\")\n",
    "print(\"Пятый - изображение, полученное при замыкании-размыкании, шестой - изображение, полученное при размыкании-замыкании.\")\n",
    "for i in range(0, 24, 6):\n",
    "    plt.figure(figsize=(20, 10))\n",
    "    for j in range(6):\n",
    "        plt.subplot(2, 6, j + 1)\n",
    "        plt.imshow(np.reshape(results[i + j], (28, 28)), cmap=\"gray\")\n",
    "    plt.show()"
   ]
  },
  {
   "cell_type": "markdown",
   "metadata": {},
   "source": [
    "Визуально видно, что лучше всего справляется с задачей - единичное замыкание, однако, как видно из картинок, оно работает не всегда. Применим его для всей выборки(первых 1000 изображений)."
   ]
  },
  {
   "cell_type": "code",
   "execution_count": 14,
   "metadata": {
    "collapsed": true
   },
   "outputs": [],
   "source": [
    "close_data = []\n",
    "\n",
    "for i in data:\n",
    "    close_data.append(binary_closing(make_binary(i)))\n",
    "    "
   ]
  },
  {
   "cell_type": "code",
   "execution_count": 273,
   "metadata": {
    "collapsed": true
   },
   "outputs": [],
   "source": [
    "# построить скелеты изображений\n",
    "# визуально выбрать лучшие параметры (skeletonize, medial_axis)\n",
    "# нарисовать примеры результатов\n"
   ]
  },
  {
   "cell_type": "markdown",
   "metadata": {},
   "source": [
    "Посмотрим скелеты цифр, воспользовавшись **skeletonize** и **medial_axis** из **skimage.morphology**, выведем и сравним результаты, выберем наилучший."
   ]
  },
  {
   "cell_type": "code",
   "execution_count": 15,
   "metadata": {
    "collapsed": false
   },
   "outputs": [],
   "source": [
    "from skimage.morphology import skeletonize\n",
    "from skimage.morphology import medial_axis\n",
    "\n",
    "skel_data = [214, 265, 553, 453]\n",
    "skel_images = []\n",
    "\n",
    "for skel in skel_data:\n",
    "    skel_images.append(data[skel])\n",
    "    bin_img = make_binary(data[skel])\n",
    "    skel_im = skeletonize(np.reshape(bin_img, (28, 28)))\n",
    "    med_im = medial_axis(np.reshape(bin_img, (28, 28)))\n",
    "    skel_images.append(skel_im)\n",
    "    skel_images.append(med_im)\n",
    "    "
   ]
  },
  {
   "cell_type": "code",
   "execution_count": 275,
   "metadata": {
    "collapsed": false
   },
   "outputs": [
    {
     "name": "stdout",
     "output_type": "stream",
     "text": [
      "Первый столбик - обычное изображение цифры, второй - скелет, полученный методом skeletonize.\n",
      "Третий - скелет, полученный методом medial_axis.\n"
     ]
    },
    {
     "data": {
      "image/png": "[encoded data removed]",
      "text/plain": [
       "<matplotlib.figure.Figure at 0x128f72fd0>"
      ]
     },
     "metadata": {},
     "output_type": "display_data"
    },
    {
     "data": {
      "image/png": "[encoded data removed]",
      "text/plain": [
       "<matplotlib.figure.Figure at 0x1282b0cf8>"
      ]
     },
     "metadata": {},
     "output_type": "display_data"
    },
    {
     "data": {
      "image/png": "[encoded data removed]",
      "text/plain": [
       "<matplotlib.figure.Figure at 0x10ac00b70>"
      ]
     },
     "metadata": {},
     "output_type": "display_data"
    },
    {
     "data": {
      "image/png": "[encoded data removed]",
      "text/plain": [
       "<matplotlib.figure.Figure at 0x1295b26d8>"
      ]
     },
     "metadata": {},
     "output_type": "display_data"
    }
   ],
   "source": [
    "print(\"Первый столбик - обычное изображение цифры, второй - скелет, полученный методом skeletonize.\")\n",
    "print(\"Третий - скелет, полученный методом medial_axis.\")\n",
    "for i in range(0, 12, 3):\n",
    "    plt.figure(figsize=(20, 10))\n",
    "    for j in range(3):\n",
    "        plt.subplot(2, 6, j + 1)\n",
    "        plt.imshow(np.reshape(skel_images[i + j], (28, 28)), cmap=\"gray\")\n",
    "    plt.show()\n",
    "    "
   ]
  },
  {
   "cell_type": "markdown",
   "metadata": {},
   "source": [
    "Визуально видно, что наиболее приближенный скелет строит метод **skeletonize**."
   ]
  },
  {
   "cell_type": "code",
   "execution_count": 276,
   "metadata": {
    "collapsed": true
   },
   "outputs": [],
   "source": [
    "# сгенерировать признаки по изображениям и их склетам (площадь, запас связности, ширина и т.д.)\n"
   ]
  },
  {
   "cell_type": "markdown",
   "metadata": {},
   "source": [
    "Добавим собственные признаки. Будем учитывать высоту цифры - функция ***find_hight()***, ширину - функция ***find_width()*** и площадь - ***find_space()***."
   ]
  },
  {
   "cell_type": "code",
   "execution_count": 16,
   "metadata": {
    "collapsed": false
   },
   "outputs": [],
   "source": [
    "def find_hight(image):\n",
    "    img = np.array(image).reshape(28, 28)\n",
    "    lowest_row, highest_row = 28, 0\n",
    "    for i in range(len(img)):\n",
    "        for j in range(len(img[0])):\n",
    "            if img[i][j]:\n",
    "                if i > highest_row:\n",
    "                    highest_row = i\n",
    "                if i < lowest_row:\n",
    "                    lowest_row = i\n",
    "    res = highest_row - lowest_row + 1\n",
    "    return res\n",
    "\n",
    "def find_width(image):\n",
    "    img = np.array(image).reshape(28, 28)\n",
    "    left_col = 28\n",
    "    right_col = 0\n",
    "    for i in range(len(img)):\n",
    "        for j in range(len(img[0])):\n",
    "            if img[i][j]:\n",
    "                if j > right_col:\n",
    "                    right_col = j\n",
    "                if j < left_col:\n",
    "                    left_col = j\n",
    "    res = right_col - left_col + 1\n",
    "    return res\n",
    "\n",
    "def find_space(image):\n",
    "    img = np.array(image).reshape(28, 28)\n",
    "    space = 0\n",
    "    for i in range(len(img)):\n",
    "        for j in range(len(img[0])):\n",
    "            if img[i][j]:\n",
    "                space += 1\n",
    "    return space\n"
   ]
  },
  {
   "cell_type": "code",
   "execution_count": 278,
   "metadata": {
    "collapsed": true
   },
   "outputs": [],
   "source": [
    "# добавить ваши признаки к признаковому описанию и применить решающие дереья. Сравнить результат с результатом с занятия 2"
   ]
  },
  {
   "cell_type": "markdown",
   "metadata": {},
   "source": [
    "Добавим новые признаковые описания как самих цифр, так и их скелетов.Подсчитаем ошибку перекрестной проверки на решающих деревьях."
   ]
  },
  {
   "cell_type": "code",
   "execution_count": 17,
   "metadata": {
    "collapsed": false
   },
   "outputs": [],
   "source": [
    "data_1 = []\n",
    "\n",
    "for i in data:\n",
    "    data_1.append(i)\n",
    "\n",
    "for i in range(1,len(close_data)):\n",
    "    data_1[i].append(find_hight(close_data[i]))\n",
    "    data_1[i].append(find_width(close_data[i]))\n",
    "    data_1[i].append(find_space(close_data[i]))\n",
    "    skeleton = skeletonize(np.reshape(close_data[i], (28, 28)))\n",
    "    data_1[i].append(find_hight(skeleton))\n",
    "    data_1[i].append(find_width(skeleton))\n",
    "    data_1[i].append(find_space(skeleton))\n",
    "    "
   ]
  },
  {
   "cell_type": "code",
   "execution_count": 18,
   "metadata": {
    "collapsed": false
   },
   "outputs": [
    {
     "name": "stdout",
     "output_type": "stream",
     "text": [
      "Ошибка при добавлении новых признаковых описаниях 0.329658811703\n"
     ]
    }
   ],
   "source": [
    "from sklearn.tree import DecisionTreeClassifier \n",
    "from sklearn.model_selection import cross_val_score as cvs\n",
    "\n",
    "clf = DecisionTreeClassifier(criterion=\"entropy\", min_samples_leaf=1, \n",
    "                                    max_depth=11, min_samples_split=2)\n",
    "scores = cvs(clf, data_1[1:], values[1:], cv=10)\n",
    "print(\"Ошибка при добавлении новых признаковых описаниях\",1 - scores.mean())\n"
   ]
  },
  {
   "cell_type": "markdown",
   "metadata": {},
   "source": [
    "# Метод главных компонент"
   ]
  },
  {
   "cell_type": "code",
   "execution_count": 19,
   "metadata": {
    "collapsed": false
   },
   "outputs": [],
   "source": [
    "ifile = open(\"train.csv\", \"r\")\n",
    "\n",
    "train_data = []\n",
    "train_values = []\n",
    "\n",
    "read = csv.reader(ifile)\n",
    "next(read)\n",
    "\n",
    "for row in read:\n",
    "    num = []\n",
    "    for i in row[1:]:\n",
    "        num.append(int(i))\n",
    "    train_data.append(num)\n",
    "    for i in row[0]:\n",
    "        train_values.append(int(i))\n",
    "        "
   ]
  },
  {
   "cell_type": "code",
   "execution_count": 20,
   "metadata": {
    "collapsed": true
   },
   "outputs": [],
   "source": [
    "data = train_data[:1000]\n",
    "values = train_values[:1000]\n"
   ]
  },
  {
   "cell_type": "code",
   "execution_count": 283,
   "metadata": {
    "collapsed": true
   },
   "outputs": [],
   "source": [
    "# найти среднее изображение"
   ]
  },
  {
   "cell_type": "code",
   "execution_count": 22,
   "metadata": {
    "collapsed": false
   },
   "outputs": [
    {
     "data": {
      "text/plain": [
       "<matplotlib.image.AxesImage at 0x127260828>"
      ]
     },
     "execution_count": 22,
     "metadata": {},
     "output_type": "execute_result"
    },
    {
     "data": {
      "image/png": "[encoded data removed]",
      "text/plain": [
       "<matplotlib.figure.Figure at 0x1273ee1d0>"
      ]
     },
     "metadata": {},
     "output_type": "display_data"
    }
   ],
   "source": [
    "averege = [np.zeros((28, 28)) for i in range(10)]\n",
    "averege_am = [0 for i in range(10)]\n",
    "for_all = np.zeros((28, 28))\n",
    "all_am = 0\n",
    "\n",
    "for k in range(len(train_values)):\n",
    "    for_all += np.reshape(train_data[k], (28, 28))\n",
    "    all_am += 1\n",
    "    averege[train_values[k]] += np.reshape(train_data[k], (28, 28))\n",
    "    averege_am[train_values[k]] += 1\n",
    "    \n",
    "plt.figure(figsize=(5, 5))\n",
    "for_all /= all_am\n",
    "plt.title(\"Average image\")\n",
    "plt.imshow(for_all, cmap=\"gray\")\n"
   ]
  },
  {
   "cell_type": "code",
   "execution_count": 10,
   "metadata": {
    "collapsed": true
   },
   "outputs": [],
   "source": [
    "# вычислить матрицу выборочной ковариации (сигма). Какого она размера?\n"
   ]
  },
  {
   "cell_type": "markdown",
   "metadata": {},
   "source": [
    "Найдем матрицу ковариации с помощью сингулярного разложения(библиотека **scipy.linalg**)."
   ]
  },
  {
   "cell_type": "code",
   "execution_count": 23,
   "metadata": {
    "collapsed": false
   },
   "outputs": [
    {
     "name": "stdout",
     "output_type": "stream",
     "text": [
      "Размер матрицы (784, 784)\n"
     ]
    }
   ],
   "source": [
    "from scipy.linalg import svd\n",
    "\n",
    "matrix = np.cov(np.array(train_data[:1000]).T)\n",
    "\n",
    "print(\"Размер матрицы\", matrix.shape)\n"
   ]
  },
  {
   "cell_type": "code",
   "execution_count": 11,
   "metadata": {
    "collapsed": true
   },
   "outputs": [],
   "source": [
    "# вычислить собственные векторы и собственные числа матрицы сигма. \n",
    "# Упорядочить их так, чтобы они располагались в порядке невозрастания собственных чисел,\n",
    "# а собственные векторы были расположены по столбцу\n"
   ]
  },
  {
   "cell_type": "code",
   "execution_count": 24,
   "metadata": {
    "collapsed": false
   },
   "outputs": [],
   "source": [
    "eig_vals, eig_vecs = np.linalg.eig(matrix)\n",
    "\n",
    "eig_vecs = eig_vecs.T\n",
    "indexes = np.argsort(eig_vals)\n",
    "\n",
    "indexes = indexes[::-1]\n",
    "eig_vals = np.array(eig_vals)[indexes]\n",
    "eig_vecs = np.array(eig_vecs)[indexes]\n",
    "\n",
    "eig_vecs = eig_vecs.T\n"
   ]
  },
  {
   "cell_type": "code",
   "execution_count": 263,
   "metadata": {
    "collapsed": true
   },
   "outputs": [],
   "source": [
    "# по графику кумулятивной суммы собственных чисел дать рекомендации по выбору размерности (0.9; 0.95; 0.99)\n"
   ]
  },
  {
   "cell_type": "markdown",
   "metadata": {},
   "source": [
    "Подсчитаем кумулятивную сумму и построим график в зависимости от размерности. Выведем ее и найдем оптимальные значения для 0.9; 0.95; 0.99."
   ]
  },
  {
   "cell_type": "code",
   "execution_count": 25,
   "metadata": {
    "collapsed": false
   },
   "outputs": [
    {
     "name": "stderr",
     "output_type": "stream",
     "text": [
      "//anaconda/lib/python3.5/site-packages/numpy/core/numeric.py:531: ComplexWarning: Casting complex values to real discards the imaginary part\n",
      "  return array(a, dtype, copy=False, order=order)\n"
     ]
    },
    {
     "data": {
      "image/png": "[encoded data removed]",
      "text/plain": [
       "<matplotlib.figure.Figure at 0x12b774f98>"
      ]
     },
     "metadata": {},
     "output_type": "display_data"
    },
    {
     "name": "stdout",
     "output_type": "stream",
     "text": [
      "Для 0.9 рекомендованная размерность 77 \n",
      "Для 0.95 рекомендованная размерность 130 \n",
      "Для 0.99 рекомендованная размерность 277 \n"
     ]
    }
   ],
   "source": [
    "cum_var =  np.cumsum(eig_vals)\n",
    "\n",
    "    \n",
    "dimension = [0, 0, 0]\n",
    "nums = [0.9, 0.95, 0.99]\n",
    "ind = 0\n",
    "for num in nums:\n",
    "    index = (np.abs(cum_var - num * cum_var[-1])).argmin()\n",
    "    dimension[ind] = index\n",
    "    ind += 1\n",
    "    #plt.axhline(y=size * summ[-1], color='r', linestyle=':')\n",
    "    #plt.axvline(x=idx, color='g', linestyle=':')\n",
    "    \n",
    "    \n",
    "    \n",
    "plt.title('Graph #2')\n",
    "plt.plot(cum_var)\n",
    "plt.grid()\n",
    "plt.show()\n",
    "\n",
    "for i in range(3):\n",
    "    print(\"Для {0} рекомендованная размерность {1} \".format(nums[i], dimension[i]))\n",
    "    "
   ]
  },
  {
   "cell_type": "code",
   "execution_count": 13,
   "metadata": {
    "collapsed": true
   },
   "outputs": [],
   "source": [
    "# нарисовать проекции нескольких цифр на аффинные пространства реккомендованной размерности. \n",
    "# Нарисовать проекции на пространства меньшей и большей размерности\n"
   ]
  },
  {
   "cell_type": "code",
   "execution_count": 26,
   "metadata": {
    "collapsed": false
   },
   "outputs": [
    {
     "name": "stdout",
     "output_type": "stream",
     "text": [
      "[77, 130, 277]\n"
     ]
    }
   ],
   "source": [
    "print(dimension)\n"
   ]
  },
  {
   "cell_type": "markdown",
   "metadata": {},
   "source": [
    "Нарисуем проекции цифр на пространства размерности 77, 130 и 277."
   ]
  },
  {
   "cell_type": "code",
   "execution_count": 27,
   "metadata": {
    "collapsed": false
   },
   "outputs": [
    {
     "name": "stderr",
     "output_type": "stream",
     "text": [
      "//anaconda/lib/python3.5/site-packages/ipykernel/__main__.py:5: ComplexWarning: Casting complex values to real discards the imaginary part\n"
     ]
    },
    {
     "data": {
      "image/png": "[encoded data removed]",
      "text/plain": [
       "<matplotlib.figure.Figure at 0x1273ee7b8>"
      ]
     },
     "metadata": {},
     "output_type": "display_data"
    },
    {
     "data": {
      "image/png": "[encoded data removed]",
      "text/plain": [
       "<matplotlib.figure.Figure at 0x12736b1d0>"
      ]
     },
     "metadata": {},
     "output_type": "display_data"
    },
    {
     "data": {
      "image/png": "[encoded data removed]",
      "text/plain": [
       "<matplotlib.figure.Figure at 0x127414c18>"
      ]
     },
     "metadata": {},
     "output_type": "display_data"
    }
   ],
   "source": [
    "for dim in dimension:\n",
    "    new_mat = np.dot(np.array(eig_vecs[:,:dim]).T, np.array(train_data[9]).T)\n",
    "    new_mat = np.dot(new_mat.T, np.array(eig_vecs[:,:dim]).T)\n",
    "    plt.figure(figsize=(5, 10))\n",
    "    plt.imshow(new_mat.reshape(28,28).astype(int), cmap=\"gray\")\n",
    "    plt.show()\n",
    "    "
   ]
  },
  {
   "cell_type": "code",
   "execution_count": null,
   "metadata": {
    "collapsed": true
   },
   "outputs": [],
   "source": [
    "# Применить решающие деревья к выборке меньшей размерности (признаки --- главные координаты)\n",
    "# Как изменилось качество?\n"
   ]
  },
  {
   "cell_type": "markdown",
   "metadata": {},
   "source": [
    "Возьмем первые 1000 изображений и построим их в трех рекомендованных размерностях. С помощью Решающих Деревьев подсчитаем ошибку на перекрестной проверке для каждой размерности и сравним ее без ограничения размерности. Возьмем оптимальные значения параметров из задания 2."
   ]
  },
  {
   "cell_type": "code",
   "execution_count": 28,
   "metadata": {
    "collapsed": false
   },
   "outputs": [],
   "source": [
    "from scipy.linalg import svd\n",
    "\n",
    "new_data = [[], [], []]\n",
    "\n",
    "for d in data:\n",
    "    index = 0\n",
    "    for dim in dimension:\n",
    "        new_mat = np.dot(np.array(eig_vecs[:,:dim]).T, np.array(d).T)\n",
    "        new_mat = np.dot(new_mat.T, np.array(eig_vecs[:,:dim]).T)\n",
    "        new_data[index].append(new_mat.reshape(28 * 28))\n",
    "        index += 1\n",
    "        "
   ]
  },
  {
   "cell_type": "code",
   "execution_count": 29,
   "metadata": {
    "collapsed": false
   },
   "outputs": [
    {
     "name": "stderr",
     "output_type": "stream",
     "text": [
      "//anaconda/lib/python3.5/site-packages/sklearn/utils/validation.py:402: ComplexWarning: Casting complex values to real discards the imaginary part\n",
      "  array = np.array(array, dtype=dtype, order=order, copy=copy)\n",
      "//anaconda/lib/python3.5/site-packages/sklearn/utils/validation.py:402: ComplexWarning: Casting complex values to real discards the imaginary part\n",
      "  array = np.array(array, dtype=dtype, order=order, copy=copy)\n",
      "//anaconda/lib/python3.5/site-packages/sklearn/utils/validation.py:402: ComplexWarning: Casting complex values to real discards the imaginary part\n",
      "  array = np.array(array, dtype=dtype, order=order, copy=copy)\n",
      "//anaconda/lib/python3.5/site-packages/sklearn/utils/validation.py:402: ComplexWarning: Casting complex values to real discards the imaginary part\n",
      "  array = np.array(array, dtype=dtype, order=order, copy=copy)\n",
      "//anaconda/lib/python3.5/site-packages/sklearn/utils/validation.py:402: ComplexWarning: Casting complex values to real discards the imaginary part\n",
      "  array = np.array(array, dtype=dtype, order=order, copy=copy)\n",
      "//anaconda/lib/python3.5/site-packages/sklearn/utils/validation.py:402: ComplexWarning: Casting complex values to real discards the imaginary part\n",
      "  array = np.array(array, dtype=dtype, order=order, copy=copy)\n",
      "//anaconda/lib/python3.5/site-packages/sklearn/utils/validation.py:402: ComplexWarning: Casting complex values to real discards the imaginary part\n",
      "  array = np.array(array, dtype=dtype, order=order, copy=copy)\n",
      "//anaconda/lib/python3.5/site-packages/sklearn/utils/validation.py:402: ComplexWarning: Casting complex values to real discards the imaginary part\n",
      "  array = np.array(array, dtype=dtype, order=order, copy=copy)\n",
      "//anaconda/lib/python3.5/site-packages/sklearn/utils/validation.py:402: ComplexWarning: Casting complex values to real discards the imaginary part\n",
      "  array = np.array(array, dtype=dtype, order=order, copy=copy)\n",
      "//anaconda/lib/python3.5/site-packages/sklearn/utils/validation.py:402: ComplexWarning: Casting complex values to real discards the imaginary part\n",
      "  array = np.array(array, dtype=dtype, order=order, copy=copy)\n",
      "//anaconda/lib/python3.5/site-packages/sklearn/utils/validation.py:402: ComplexWarning: Casting complex values to real discards the imaginary part\n",
      "  array = np.array(array, dtype=dtype, order=order, copy=copy)\n",
      "//anaconda/lib/python3.5/site-packages/sklearn/utils/validation.py:402: ComplexWarning: Casting complex values to real discards the imaginary part\n",
      "  array = np.array(array, dtype=dtype, order=order, copy=copy)\n",
      "//anaconda/lib/python3.5/site-packages/sklearn/utils/validation.py:402: ComplexWarning: Casting complex values to real discards the imaginary part\n",
      "  array = np.array(array, dtype=dtype, order=order, copy=copy)\n",
      "//anaconda/lib/python3.5/site-packages/sklearn/utils/validation.py:402: ComplexWarning: Casting complex values to real discards the imaginary part\n",
      "  array = np.array(array, dtype=dtype, order=order, copy=copy)\n",
      "//anaconda/lib/python3.5/site-packages/sklearn/utils/validation.py:402: ComplexWarning: Casting complex values to real discards the imaginary part\n",
      "  array = np.array(array, dtype=dtype, order=order, copy=copy)\n",
      "//anaconda/lib/python3.5/site-packages/sklearn/utils/validation.py:402: ComplexWarning: Casting complex values to real discards the imaginary part\n",
      "  array = np.array(array, dtype=dtype, order=order, copy=copy)\n",
      "//anaconda/lib/python3.5/site-packages/sklearn/utils/validation.py:402: ComplexWarning: Casting complex values to real discards the imaginary part\n",
      "  array = np.array(array, dtype=dtype, order=order, copy=copy)\n",
      "//anaconda/lib/python3.5/site-packages/sklearn/utils/validation.py:402: ComplexWarning: Casting complex values to real discards the imaginary part\n",
      "  array = np.array(array, dtype=dtype, order=order, copy=copy)\n",
      "//anaconda/lib/python3.5/site-packages/sklearn/utils/validation.py:402: ComplexWarning: Casting complex values to real discards the imaginary part\n",
      "  array = np.array(array, dtype=dtype, order=order, copy=copy)\n",
      "//anaconda/lib/python3.5/site-packages/sklearn/utils/validation.py:402: ComplexWarning: Casting complex values to real discards the imaginary part\n",
      "  array = np.array(array, dtype=dtype, order=order, copy=copy)\n",
      "//anaconda/lib/python3.5/site-packages/sklearn/utils/validation.py:402: ComplexWarning: Casting complex values to real discards the imaginary part\n",
      "  array = np.array(array, dtype=dtype, order=order, copy=copy)\n",
      "//anaconda/lib/python3.5/site-packages/sklearn/utils/validation.py:402: ComplexWarning: Casting complex values to real discards the imaginary part\n",
      "  array = np.array(array, dtype=dtype, order=order, copy=copy)\n",
      "//anaconda/lib/python3.5/site-packages/sklearn/utils/validation.py:402: ComplexWarning: Casting complex values to real discards the imaginary part\n",
      "  array = np.array(array, dtype=dtype, order=order, copy=copy)\n",
      "//anaconda/lib/python3.5/site-packages/sklearn/utils/validation.py:402: ComplexWarning: Casting complex values to real discards the imaginary part\n",
      "  array = np.array(array, dtype=dtype, order=order, copy=copy)\n",
      "//anaconda/lib/python3.5/site-packages/sklearn/utils/validation.py:402: ComplexWarning: Casting complex values to real discards the imaginary part\n",
      "  array = np.array(array, dtype=dtype, order=order, copy=copy)\n",
      "//anaconda/lib/python3.5/site-packages/sklearn/utils/validation.py:402: ComplexWarning: Casting complex values to real discards the imaginary part\n",
      "  array = np.array(array, dtype=dtype, order=order, copy=copy)\n",
      "//anaconda/lib/python3.5/site-packages/sklearn/utils/validation.py:402: ComplexWarning: Casting complex values to real discards the imaginary part\n",
      "  array = np.array(array, dtype=dtype, order=order, copy=copy)\n",
      "//anaconda/lib/python3.5/site-packages/sklearn/utils/validation.py:402: ComplexWarning: Casting complex values to real discards the imaginary part\n",
      "  array = np.array(array, dtype=dtype, order=order, copy=copy)\n",
      "//anaconda/lib/python3.5/site-packages/sklearn/utils/validation.py:402: ComplexWarning: Casting complex values to real discards the imaginary part\n",
      "  array = np.array(array, dtype=dtype, order=order, copy=copy)\n",
      "//anaconda/lib/python3.5/site-packages/sklearn/utils/validation.py:402: ComplexWarning: Casting complex values to real discards the imaginary part\n",
      "  array = np.array(array, dtype=dtype, order=order, copy=copy)\n"
     ]
    },
    {
     "name": "stdout",
     "output_type": "stream",
     "text": [
      "На размерности 77 ошибка равна 0.3613065244211272\n",
      "На размерности 130 ошибка равна 0.3596774396377572\n",
      "На размерности 277 ошибка равна 0.36804999254090176\n"
     ]
    }
   ],
   "source": [
    "from sklearn.tree import DecisionTreeClassifier \n",
    "from sklearn.model_selection import cross_val_score as cvs\n",
    "\n",
    "means_3 = []\n",
    "\n",
    "for i in range(3):\n",
    "    clf = DecisionTreeClassifier(criterion=\"entropy\", min_samples_leaf=1, \n",
    "                                    max_depth=11, min_samples_split=2)\n",
    "    b = new_data[i]\n",
    "    scores = cvs(clf, b, values, cv=10)\n",
    "    means_3.append(1 - scores.mean())\n",
    "\n",
    "for i in range(3):\n",
    "    print(\"На размерности {0} ошибка равна {1}\".format(dimension[i], means_3[i]))\n",
    "    "
   ]
  },
  {
   "cell_type": "code",
   "execution_count": 30,
   "metadata": {
    "collapsed": false
   },
   "outputs": [
    {
     "name": "stdout",
     "output_type": "stream",
     "text": [
      "Средняя ошибка получилась 0.363011318867\n"
     ]
    }
   ],
   "source": [
    "print(\"Средняя ошибка получилась\", np.array(means_3).mean())\n"
   ]
  },
  {
   "cell_type": "code",
   "execution_count": 31,
   "metadata": {
    "collapsed": false
   },
   "outputs": [
    {
     "name": "stdout",
     "output_type": "stream",
     "text": [
      "Ошибка без ограничения размерности равна 0.345278962138\n"
     ]
    }
   ],
   "source": [
    "clf = DecisionTreeClassifier(criterion=\"entropy\", min_samples_leaf=1, \n",
    "                                    max_depth=11, min_samples_split=2)\n",
    "scores = cvs(clf, data, values, cv=10)\n",
    "print(\"Ошибка без ограничения размерности равна\", 1 - scores.mean())\n"
   ]
  },
  {
   "cell_type": "markdown",
   "metadata": {},
   "source": [
    "Ошибка в среднем увеличилась, значит качество ухудшилось."
   ]
  }
 ],
 "metadata": {
  "anaconda-cloud": {},
  "kernelspec": {
   "display_name": "Python [default]",
   "language": "python",
   "name": "python3"
  },
  "language_info": {
   "codemirror_mode": {
    "name": "ipython",
    "version": 3
   },
   "file_extension": ".py",
   "mimetype": "text/x-python",
   "name": "python",
   "nbconvert_exporter": "python",
   "pygments_lexer": "ipython3",
   "version": "3.5.2"
  }
 },
 "nbformat": 4,
 "nbformat_minor": 0
}
